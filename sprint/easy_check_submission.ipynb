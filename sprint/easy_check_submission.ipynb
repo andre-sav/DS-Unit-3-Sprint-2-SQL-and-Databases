{
 "cells": [
  {
   "cell_type": "markdown",
   "metadata": {},
   "source": [
    "demo_data.py "
   ]
  },
  {
   "cell_type": "code",
   "execution_count": 2,
   "metadata": {},
   "outputs": [],
   "source": [
    "import sqlite3"
   ]
  },
  {
   "cell_type": "code",
   "execution_count": 3,
   "metadata": {},
   "outputs": [],
   "source": [
    "con = sqlite3.connect('demo_data.sqlite3')"
   ]
  },
  {
   "cell_type": "code",
   "execution_count": 4,
   "metadata": {},
   "outputs": [],
   "source": [
    "curs = con.cursor()"
   ]
  },
  {
   "cell_type": "code",
   "execution_count": 5,
   "metadata": {},
   "outputs": [],
   "source": [
    "statement = \"\"\"CREATE TABLE demo (\n",
    "                s VARCHAR(10),\n",
    "                x INT,\n",
    "                y INT);\n",
    "            \"\"\""
   ]
  },
  {
   "cell_type": "code",
   "execution_count": 6,
   "metadata": {},
   "outputs": [
    {
     "ename": "OperationalError",
     "evalue": "table demo already exists",
     "output_type": "error",
     "traceback": [
      "\u001b[1;31m---------------------------------------------------------------------------\u001b[0m",
      "\u001b[1;31mOperationalError\u001b[0m                          Traceback (most recent call last)",
      "\u001b[1;32m<ipython-input-6-0ae8b067ac00>\u001b[0m in \u001b[0;36m<module>\u001b[1;34m\u001b[0m\n\u001b[1;32m----> 1\u001b[1;33m \u001b[0mcurs\u001b[0m\u001b[1;33m.\u001b[0m\u001b[0mexecute\u001b[0m\u001b[1;33m(\u001b[0m\u001b[0mstatement\u001b[0m\u001b[1;33m)\u001b[0m\u001b[1;33m\u001b[0m\u001b[1;33m\u001b[0m\u001b[0m\n\u001b[0m",
      "\u001b[1;31mOperationalError\u001b[0m: table demo already exists"
     ]
    }
   ],
   "source": [
    "curs.execute(statement)"
   ]
  },
  {
   "cell_type": "code",
   "execution_count": 7,
   "metadata": {},
   "outputs": [],
   "source": [
    "statement = \"\"\"\n",
    "            INSERT INTO demo VALUES\n",
    "                ('g', 3, 9),\n",
    "                ('v', 5, 7),\n",
    "                ('f', 8, 7);\n",
    "            \"\"\""
   ]
  },
  {
   "cell_type": "code",
   "execution_count": 8,
   "metadata": {},
   "outputs": [
    {
     "data": {
      "text/plain": [
       "<sqlite3.Cursor at 0x1e49db26ce0>"
      ]
     },
     "execution_count": 8,
     "metadata": {},
     "output_type": "execute_result"
    }
   ],
   "source": [
    "curs.execute(statement)"
   ]
  },
  {
   "cell_type": "code",
   "execution_count": 9,
   "metadata": {},
   "outputs": [],
   "source": [
    "query = 'SELECT COUNT(*) FROM demo;'"
   ]
  },
  {
   "cell_type": "code",
   "execution_count": 10,
   "metadata": {},
   "outputs": [
    {
     "data": {
      "text/plain": [
       "[(3,)]"
      ]
     },
     "execution_count": 10,
     "metadata": {},
     "output_type": "execute_result"
    }
   ],
   "source": [
    "curs.execute(query).fetchall()"
   ]
  },
  {
   "cell_type": "code",
   "execution_count": 11,
   "metadata": {},
   "outputs": [],
   "source": [
    "query = 'SELECT COUNT(*) FROM demo WHERE x >= 5 AND y >=5;'"
   ]
  },
  {
   "cell_type": "code",
   "execution_count": 12,
   "metadata": {},
   "outputs": [
    {
     "data": {
      "text/plain": [
       "[(2,)]"
      ]
     },
     "execution_count": 12,
     "metadata": {},
     "output_type": "execute_result"
    }
   ],
   "source": [
    "curs.execute(query).fetchall()"
   ]
  },
  {
   "cell_type": "code",
   "execution_count": 13,
   "metadata": {},
   "outputs": [],
   "source": [
    "query = 'SELECT COUNT(DISTINCT y) FROM demo;'"
   ]
  },
  {
   "cell_type": "code",
   "execution_count": 14,
   "metadata": {},
   "outputs": [
    {
     "data": {
      "text/plain": [
       "[(2,)]"
      ]
     },
     "execution_count": 14,
     "metadata": {},
     "output_type": "execute_result"
    }
   ],
   "source": [
    "curs.execute(query).fetchall()"
   ]
  },
  {
   "cell_type": "code",
   "execution_count": 16,
   "metadata": {},
   "outputs": [],
   "source": [
    "con.commit()"
   ]
  },
  {
   "cell_type": "code",
   "execution_count": null,
   "metadata": {},
   "outputs": [],
   "source": []
  },
  {
   "cell_type": "code",
   "execution_count": 31,
   "metadata": {},
   "outputs": [],
   "source": [
    "import sqlite3\n",
    "\n",
    "con = sqlite3.connect('northwind_small.sqlite3')\n",
    "\n",
    "curs = con.cursor()"
   ]
  },
  {
   "cell_type": "code",
   "execution_count": 32,
   "metadata": {},
   "outputs": [
    {
     "data": {
      "text/plain": [
       "[('Category',),\n",
       " ('Customer',),\n",
       " ('CustomerCustomerDemo',),\n",
       " ('CustomerDemographic',),\n",
       " ('Employee',),\n",
       " ('EmployeeTerritory',),\n",
       " ('Order',),\n",
       " ('OrderDetail',),\n",
       " ('Product',),\n",
       " ('Region',),\n",
       " ('Shipper',),\n",
       " ('Supplier',),\n",
       " ('Territory',)]"
      ]
     },
     "execution_count": 32,
     "metadata": {},
     "output_type": "execute_result"
    }
   ],
   "source": [
    "curs.execute(\"SELECT name FROM sqlite_master WHERE type='table' ORDER BY name;\").fetchall()"
   ]
  },
  {
   "cell_type": "code",
   "execution_count": 33,
   "metadata": {},
   "outputs": [
    {
     "data": {
      "text/plain": [
       "[('CREATE TABLE \"Customer\" \\n(\\n  \"Id\" VARCHAR(8000) PRIMARY KEY, \\n  \"CompanyName\" VARCHAR(8000) NULL, \\n  \"ContactName\" VARCHAR(8000) NULL, \\n  \"ContactTitle\" VARCHAR(8000) NULL, \\n  \"Address\" VARCHAR(8000) NULL, \\n  \"City\" VARCHAR(8000) NULL, \\n  \"Region\" VARCHAR(8000) NULL, \\n  \"PostalCode\" VARCHAR(8000) NULL, \\n  \"Country\" VARCHAR(8000) NULL, \\n  \"Phone\" VARCHAR(8000) NULL, \\n  \"Fax\" VARCHAR(8000) NULL \\n)',)]"
      ]
     },
     "execution_count": 33,
     "metadata": {},
     "output_type": "execute_result"
    }
   ],
   "source": [
    "curs.execute('SELECT sql FROM sqlite_master WHERE name=\"Customer\";').fetchall()"
   ]
  },
  {
   "cell_type": "code",
   "execution_count": 37,
   "metadata": {
    "scrolled": true
   },
   "outputs": [
    {
     "data": {
      "text/plain": [
       "[('Côte de Blaye', 263.5),\n",
       " ('Thüringer Rostbratwurst', 123.79),\n",
       " ('Mishi Kobe Niku', 97),\n",
       " (\"Sir Rodney's Marmalade\", 81),\n",
       " ('Carnarvon Tigers', 62.5),\n",
       " ('Raclette Courdavault', 55),\n",
       " ('Manjimup Dried Apples', 53),\n",
       " ('Tarte au sucre', 49.3),\n",
       " ('Ipoh Coffee', 46),\n",
       " ('Rössle Sauerkraut', 45.6)]"
      ]
     },
     "execution_count": 37,
     "metadata": {},
     "output_type": "execute_result"
    }
   ],
   "source": [
    "query = 'SELECT ProductName, UnitPrice FROM Product ORDER BY UnitPrice DESC LIMIT 10;'\n",
    "\n",
    "curs.execute(query).fetchall()"
   ]
  },
  {
   "cell_type": "code",
   "execution_count": 41,
   "metadata": {},
   "outputs": [
    {
     "data": {
      "text/plain": [
       "[(37.22222222222222,)]"
      ]
     },
     "execution_count": 41,
     "metadata": {},
     "output_type": "execute_result"
    }
   ],
   "source": [
    "query = 'SELECT AVG(HireDate-Birthdate) FROM Employee;'\n",
    "\n",
    "curs.execute(query).fetchall()"
   ]
  },
  {
   "cell_type": "code",
   "execution_count": 74,
   "metadata": {},
   "outputs": [
    {
     "data": {
      "text/plain": [
       "[('Kirkland', 29.0),\n",
       " ('London', 32.5),\n",
       " ('Redmond', 56.0),\n",
       " ('Seattle', 40.0),\n",
       " ('Tacoma', 40.0)]"
      ]
     },
     "execution_count": 74,
     "metadata": {},
     "output_type": "execute_result"
    }
   ],
   "source": [
    "query = \"\"\"\n",
    "        SELECT City, AVG(HireDate-Birthdate)\n",
    "        FROM Employee\n",
    "        GROUP BY City\n",
    "        \"\"\"\n",
    "curs.execute(query).fetchall()"
   ]
  },
  {
   "cell_type": "code",
   "execution_count": 56,
   "metadata": {},
   "outputs": [
    {
     "data": {
      "text/plain": [
       "[('CREATE TABLE \"Product\" \\n(\\n  \"Id\" INTEGER PRIMARY KEY, \\n  \"ProductName\" VARCHAR(8000) NULL, \\n  \"SupplierId\" INTEGER NOT NULL, \\n  \"CategoryId\" INTEGER NOT NULL, \\n  \"QuantityPerUnit\" VARCHAR(8000) NULL, \\n  \"UnitPrice\" DECIMAL NOT NULL, \\n  \"UnitsInStock\" INTEGER NOT NULL, \\n  \"UnitsOnOrder\" INTEGER NOT NULL, \\n  \"ReorderLevel\" INTEGER NOT NULL, \\n  \"Discontinued\" INTEGER NOT NULL \\n)',)]"
      ]
     },
     "execution_count": 56,
     "metadata": {},
     "output_type": "execute_result"
    }
   ],
   "source": [
    "curs.execute('SELECT sql FROM sqlite_master WHERE name=\"Product\";').fetchall()"
   ]
  },
  {
   "cell_type": "code",
   "execution_count": 55,
   "metadata": {},
   "outputs": [
    {
     "data": {
      "text/plain": [
       "[('CREATE TABLE \"Supplier\" \\n(\\n  \"Id\" INTEGER PRIMARY KEY, \\n  \"CompanyName\" VARCHAR(8000) NULL, \\n  \"ContactName\" VARCHAR(8000) NULL, \\n  \"ContactTitle\" VARCHAR(8000) NULL, \\n  \"Address\" VARCHAR(8000) NULL, \\n  \"City\" VARCHAR(8000) NULL, \\n  \"Region\" VARCHAR(8000) NULL, \\n  \"PostalCode\" VARCHAR(8000) NULL, \\n  \"Country\" VARCHAR(8000) NULL, \\n  \"Phone\" VARCHAR(8000) NULL, \\n  \"Fax\" VARCHAR(8000) NULL, \\n  \"HomePage\" VARCHAR(8000) NULL \\n)',)]"
      ]
     },
     "execution_count": 55,
     "metadata": {},
     "output_type": "execute_result"
    }
   ],
   "source": [
    "curs.execute('SELECT sql FROM sqlite_master WHERE name=\"Supplier\";').fetchall()"
   ]
  },
  {
   "cell_type": "code",
   "execution_count": 57,
   "metadata": {},
   "outputs": [
    {
     "data": {
      "text/plain": [
       "[('Côte de Blaye', 263.5, 'Aux joyeux ecclésiastiques'),\n",
       " ('Thüringer Rostbratwurst', 123.79, 'Plutzer Lebensmittelgroßmärkte AG'),\n",
       " ('Mishi Kobe Niku', 97, 'Tokyo Traders'),\n",
       " (\"Sir Rodney's Marmalade\", 81, 'Specialty Biscuits, Ltd.'),\n",
       " ('Carnarvon Tigers', 62.5, 'Pavlova, Ltd.'),\n",
       " ('Raclette Courdavault', 55, 'Gai pâturage'),\n",
       " ('Manjimup Dried Apples', 53, \"G'day, Mate\"),\n",
       " ('Tarte au sucre', 49.3, \"Forêts d'érables\"),\n",
       " ('Ipoh Coffee', 46, 'Leka Trading'),\n",
       " ('Rössle Sauerkraut', 45.6, 'Plutzer Lebensmittelgroßmärkte AG')]"
      ]
     },
     "execution_count": 57,
     "metadata": {},
     "output_type": "execute_result"
    }
   ],
   "source": [
    "query = \"\"\"\n",
    "        SELECT ProductName, UnitPrice, CompanyName\n",
    "        FROM Product\n",
    "        INNER JOIN Supplier ON Product.SupplierID = Supplier.Id\n",
    "        ORDER BY UnitPrice DESC\n",
    "        LIMIT 10\n",
    "        \"\"\"\n",
    "\n",
    "curs.execute(query).fetchall()"
   ]
  },
  {
   "cell_type": "code",
   "execution_count": 58,
   "metadata": {},
   "outputs": [
    {
     "data": {
      "text/plain": [
       "[('CREATE TABLE \"Category\" \\n(\\n  \"Id\" INTEGER PRIMARY KEY, \\n  \"CategoryName\" VARCHAR(8000) NULL, \\n  \"Description\" VARCHAR(8000) NULL \\n)',)]"
      ]
     },
     "execution_count": 58,
     "metadata": {},
     "output_type": "execute_result"
    }
   ],
   "source": [
    "curs.execute('SELECT sql FROM sqlite_master WHERE name=\"Category\";').fetchall()"
   ]
  },
  {
   "cell_type": "code",
   "execution_count": 66,
   "metadata": {},
   "outputs": [
    {
     "data": {
      "text/plain": [
       "[('Confections', 13),\n",
       " ('Beverages', 12),\n",
       " ('Condiments', 12),\n",
       " ('Seafood', 12),\n",
       " ('Dairy Products', 10),\n",
       " ('Grains/Cereals', 7),\n",
       " ('Meat/Poultry', 6),\n",
       " ('Produce', 5)]"
      ]
     },
     "execution_count": 66,
     "metadata": {},
     "output_type": "execute_result"
    }
   ],
   "source": [
    "query = \"\"\"\n",
    "        SELECT CategoryName, COUNT(Product.Id)\n",
    "        FROM Category\n",
    "        INNER JOIN Product ON Category.Id = Product.CategoryID\n",
    "        GROUP BY CategoryName\n",
    "        ORDER BY COUNT(Product.Id) DESC\n",
    "        \"\"\"\n",
    "\n",
    "curs.execute(query).fetchall()"
   ]
  },
  {
   "cell_type": "code",
   "execution_count": 76,
   "metadata": {},
   "outputs": [
    {
     "data": {
      "text/plain": [
       "[('CREATE TABLE \"Employee\" \\n(\\n  \"Id\" INTEGER PRIMARY KEY, \\n  \"LastName\" VARCHAR(8000) NULL, \\n  \"FirstName\" VARCHAR(8000) NULL, \\n  \"Title\" VARCHAR(8000) NULL, \\n  \"TitleOfCourtesy\" VARCHAR(8000) NULL, \\n  \"BirthDate\" VARCHAR(8000) NULL, \\n  \"HireDate\" VARCHAR(8000) NULL, \\n  \"Address\" VARCHAR(8000) NULL, \\n  \"City\" VARCHAR(8000) NULL, \\n  \"Region\" VARCHAR(8000) NULL, \\n  \"PostalCode\" VARCHAR(8000) NULL, \\n  \"Country\" VARCHAR(8000) NULL, \\n  \"HomePhone\" VARCHAR(8000) NULL, \\n  \"Extension\" VARCHAR(8000) NULL, \\n  \"Photo\" BLOB NULL, \\n  \"Notes\" VARCHAR(8000) NULL, \\n  \"ReportsTo\" INTEGER NULL, \\n  \"PhotoPath\" VARCHAR(8000) NULL \\n)',)]"
      ]
     },
     "execution_count": 76,
     "metadata": {},
     "output_type": "execute_result"
    }
   ],
   "source": [
    "curs.execute('SELECT sql FROM sqlite_master WHERE name=\"Employee\";').fetchall()"
   ]
  },
  {
   "cell_type": "code",
   "execution_count": 77,
   "metadata": {
    "scrolled": true
   },
   "outputs": [
    {
     "data": {
      "text/plain": [
       "[('CREATE TABLE \"EmployeeTerritory\" \\n(\\n  \"Id\" VARCHAR(8000) PRIMARY KEY, \\n  \"EmployeeId\" INTEGER NOT NULL, \\n  \"TerritoryId\" VARCHAR(8000) NULL \\n)',)]"
      ]
     },
     "execution_count": 77,
     "metadata": {},
     "output_type": "execute_result"
    }
   ],
   "source": [
    "curs.execute('SELECT sql FROM sqlite_master WHERE name=\"EmployeeTerritory\";').fetchall()"
   ]
  },
  {
   "cell_type": "code",
   "execution_count": 83,
   "metadata": {},
   "outputs": [
    {
     "data": {
      "text/plain": [
       "[('Robert', 'King', 10),\n",
       " ('Andrew', 'Fuller', 7),\n",
       " ('Steven', 'Buchanan', 7),\n",
       " ('Anne', 'Dodsworth', 7),\n",
       " ('Michael', 'Suyama', 5),\n",
       " ('Janet', 'Leverling', 4),\n",
       " ('Laura', 'Callahan', 4),\n",
       " ('Margaret', 'Peacock', 3),\n",
       " ('Nancy', 'Davolio', 2)]"
      ]
     },
     "execution_count": 83,
     "metadata": {},
     "output_type": "execute_result"
    }
   ],
   "source": [
    "query = \"\"\"\n",
    "        SELECT FirstName, LastName, COUNT(EmployeeTerritory.Id) AS Territories\n",
    "        FROM Employee\n",
    "        INNER JOIN EmployeeTerritory ON Employee.Id = EmployeeTerritory.EmployeeId\n",
    "        GROUP BY Employee.Id\n",
    "        ORDER BY Territories DESC\n",
    "        \"\"\"\n",
    "\n",
    "curs.execute(query).fetchall()"
   ]
  },
  {
   "cell_type": "markdown",
   "metadata": {},
   "source": [
    "The relationship between Employee and Territory is many to many. They are not directly connected via the schema. Logically, given a large enough company multiple personel may be assigned to a single territory and vica versa, if the company is small a sigle employee may be assigned multiple territories. \n",
    "\n",
    "MongoDB may be appropriate in a situation that requires ad hoc data insertion and has no urgency for retrieval, and or is working with large amounts of unstructed data. It is invaluable in situations where the user cannot pre define the schema. There are few limitations placed upon the user to organize their data, which makes it very easy to upload. If done in an unstructured manner, the data will be difficult to organize and retrieve efficiently. To avoid this one must use proper indexing. \n",
    "\n",
    "MongoDB is not appropriate for use where stability is of the utmost importance. A relational database such as MySQL would serve better, as it is a mature platform with widespread adoption. Getting technical support is trivial and operational memory requirements are lower for those who are infrastructure limited. Also, MongoDB doesn't support joins in a straightforward fashion. Doing so is computationally expensive and one is better off using a structured database instead. \n",
    "\n",
    "NewSQL is an evolved form of SQL currently being developed to solve the lingering problems with the legacy structured database paradigm, while retaining its best attributes. The chief issue it aims to solve being scalability, meaning the database should continue functioning properly as its contents increase. The end goal is to create a system that will adhere to the principles of ACID (Atomicity, Consistency, Isolation, Durability) while scaling without an exponential increase in compute power necessary."
   ]
  },
  {
   "cell_type": "code",
   "execution_count": 17,
   "metadata": {},
   "outputs": [
    {
     "name": "stderr",
     "output_type": "stream",
     "text": [
      "[NbConvertApp] Converting notebook sql.ipynb to script\n",
      "[NbConvertApp] Writing 4833 bytes to sql.py\n"
     ]
    }
   ],
   "source": [
    "!jupyter nbconvert --to script sql.ipynb"
   ]
  },
  {
   "cell_type": "code",
   "execution_count": null,
   "metadata": {},
   "outputs": [],
   "source": []
  }
 ],
 "metadata": {
  "kernelspec": {
   "display_name": "Python 3",
   "language": "python",
   "name": "python3"
  },
  "language_info": {
   "codemirror_mode": {
    "name": "ipython",
    "version": 3
   },
   "file_extension": ".py",
   "mimetype": "text/x-python",
   "name": "python",
   "nbconvert_exporter": "python",
   "pygments_lexer": "ipython3",
   "version": "3.7.1"
  }
 },
 "nbformat": 4,
 "nbformat_minor": 2
}
